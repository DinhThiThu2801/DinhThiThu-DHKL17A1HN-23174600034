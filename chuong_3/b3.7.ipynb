{
 "cells": [
  {
   "cell_type": "code",
   "execution_count": 8,
   "metadata": {},
   "outputs": [],
   "source": [
    "import numpy as np"
   ]
  },
  {
   "cell_type": "code",
   "execution_count": 9,
   "metadata": {},
   "outputs": [],
   "source": [
    "baseball = []\n",
    "with open('baseball_2D.txt', 'r') as f:\n",
    "    for line in f:\n",
    "        row = line.strip().split(',')\n",
    "        baseball.append(row)"
   ]
  },
  {
   "cell_type": "code",
   "execution_count": 10,
   "metadata": {},
   "outputs": [],
   "source": [
    "np_baseball = np.array(baseball)"
   ]
  },
  {
   "cell_type": "code",
   "execution_count": 11,
   "metadata": {},
   "outputs": [
    {
     "name": "stdout",
     "output_type": "stream",
     "text": [
      "Kiểu dữ liệu của np_baseball: <class 'numpy.ndarray'>\n",
      "Kích thước của np_baseball: (1, 2030)\n"
     ]
    }
   ],
   "source": [
    "print(\"Kiểu dữ liệu của np_baseball:\", type(np_baseball))\n",
    "print(\"Kích thước của np_baseball:\", np_baseball.shape)"
   ]
  },
  {
   "cell_type": "code",
   "execution_count": 12,
   "metadata": {},
   "outputs": [
    {
     "ename": "IndexError",
     "evalue": "index 49 is out of bounds for axis 0 with size 1",
     "output_type": "error",
     "traceback": [
      "\u001b[1;31m---------------------------------------------------------------------------\u001b[0m",
      "\u001b[1;31mIndexError\u001b[0m                                Traceback (most recent call last)",
      "Cell \u001b[1;32mIn[12], line 1\u001b[0m\n\u001b[1;32m----> 1\u001b[0m row_50 \u001b[38;5;241m=\u001b[39m \u001b[43mnp_baseball\u001b[49m\u001b[43m[\u001b[49m\u001b[38;5;241;43m49\u001b[39;49m\u001b[43m]\u001b[49m\n\u001b[0;32m      2\u001b[0m \u001b[38;5;28mprint\u001b[39m(\u001b[38;5;124m\"\u001b[39m\u001b[38;5;124mDòng thứ 50 trong np_baseball:\u001b[39m\u001b[38;5;124m\"\u001b[39m, row_50)\n",
      "\u001b[1;31mIndexError\u001b[0m: index 49 is out of bounds for axis 0 with size 1"
     ]
    }
   ],
   "source": [
    "row_50 = np_baseball[49]\n",
    "print(\"Dòng thứ 50 trong np_baseball:\", row_50)"
   ]
  },
  {
   "cell_type": "code",
   "execution_count": null,
   "metadata": {},
   "outputs": [],
   "source": [
    "np_weight = np_baseball[:, 1]"
   ]
  },
  {
   "cell_type": "code",
   "execution_count": null,
   "metadata": {},
   "outputs": [],
   "source": [
    "height_124 = np_baseball[123, 0]\n",
    "print(\"Chiều cao của vận động viên thứ 124:\", height_124)"
   ]
  },
  {
   "cell_type": "code",
   "execution_count": null,
   "metadata": {},
   "outputs": [],
   "source": [
    "avg_height = np.mean(np_baseball[:, 0].astype(float))\n",
    "avg_weight = np.mean(np_weight.astype(float))\n",
    "\n",
    "print(\"Chiều cao trung bình:\", avg_height, \"inch\")\n",
    "print(\"Cân nặng trung bình:\", avg_weight, \"pounds\")"
   ]
  },
  {
   "cell_type": "code",
   "execution_count": null,
   "metadata": {},
   "outputs": [],
   "source": [
    "corr_coef = np.corrcoef(np_baseball[:, 0].astype(float), np_weight.astype(float))\n",
    "print(\"Hệ số tương quan giữa chiều cao và cân nặng:\", corr_coef[0, 1])"
   ]
  },
  {
   "cell_type": "code",
   "execution_count": null,
   "metadata": {},
   "outputs": [],
   "source": [
    "with open('baseball_2D.txt', 'r') as baseball_file:\n",
    "    #[x,y]\n",
    "    baseball_2D_list = [line.strip() for line in baseball_file.readlines()]\n",
    "baseball_file.close\n",
    "print(baseball_2D_list)"
   ]
  },
  {
   "cell_type": "code",
   "execution_count": null,
   "metadata": {},
   "outputs": [],
   "source": [
    "np_baseball = np_baseball.array(baseball_2D_list)\n",
    "print(\"Kiểu dữ liệu:\", np_baseball.dtype)\n",
    "print(\"Kích thước: \", np_baseball.size)"
   ]
  },
  {
   "cell_type": "code",
   "execution_count": null,
   "metadata": {},
   "outputs": [],
   "source": [
    "print(np_baseball, [50,:])"
   ]
  },
  {
   "cell_type": "code",
   "execution_count": null,
   "metadata": {},
   "outputs": [],
   "source": [
    "#Chiều cao trung bình, cân nặng trung bình của các cầu thủ.\n",
    "avg_height = np.mean(np_baseball[:, 0].astype(float))\n",
    "avg_weight = np.mean(np_weight.astype(float))\n",
    "print(\"Chiều cao trung bình:\", avg_height, \"inch\")\n",
    "print(\"Cân nặng trung bình:\", avg_weight, \"pounds\")"
   ]
  }
 ],
 "metadata": {
  "kernelspec": {
   "display_name": "Python 3",
   "language": "python",
   "name": "python3"
  },
  "language_info": {
   "codemirror_mode": {
    "name": "ipython",
    "version": 3
   },
   "file_extension": ".py",
   "mimetype": "text/x-python",
   "name": "python",
   "nbconvert_exporter": "python",
   "pygments_lexer": "ipython3",
   "version": "3.11.5"
  }
 },
 "nbformat": 4,
 "nbformat_minor": 2
}
