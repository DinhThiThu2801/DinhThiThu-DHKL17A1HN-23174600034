{
 "cells": [
  {
   "cell_type": "code",
   "execution_count": 1,
   "metadata": {},
   "outputs": [
    {
     "ename": "FileNotFoundError",
     "evalue": "[Errno 2] No such file or directory: 'Nguyen_Van_Nam_DHKL17A1HN_23174600055\\\\chương 3\\\\heights_1.txt'",
     "output_type": "error",
     "traceback": [
      "\u001b[1;31m---------------------------------------------------------------------------\u001b[0m",
      "\u001b[1;31mFileNotFoundError\u001b[0m                         Traceback (most recent call last)",
      "Cell \u001b[1;32mIn[1], line 4\u001b[0m\n\u001b[0;32m      1\u001b[0m \u001b[38;5;28;01mimport\u001b[39;00m \u001b[38;5;21;01mnumpy\u001b[39;00m \u001b[38;5;28;01mas\u001b[39;00m \u001b[38;5;21;01mnp\u001b[39;00m\n\u001b[0;32m      3\u001b[0m \u001b[38;5;66;03m# Bước 1: Đọc dữ liệu từ file heights_1.txt và weights_1.txt (giả sử các file chứa các giá trị theo hàng)\u001b[39;00m\n\u001b[1;32m----> 4\u001b[0m \u001b[38;5;28;01mwith\u001b[39;00m \u001b[38;5;28;43mopen\u001b[39;49m\u001b[43m(\u001b[49m\u001b[38;5;124;43m'\u001b[39;49m\u001b[38;5;124;43mNguyen_Van_Nam_DHKL17A1HN_23174600055\u001b[39;49m\u001b[38;5;130;43;01m\\\\\u001b[39;49;00m\u001b[38;5;124;43mchương 3\u001b[39;49m\u001b[38;5;130;43;01m\\\\\u001b[39;49;00m\u001b[38;5;124;43mheights_1.txt\u001b[39;49m\u001b[38;5;124;43m'\u001b[39;49m\u001b[43m,\u001b[49m\u001b[43m \u001b[49m\u001b[38;5;124;43m'\u001b[39;49m\u001b[38;5;124;43mr\u001b[39;49m\u001b[38;5;124;43m'\u001b[39;49m\u001b[43m)\u001b[49m \u001b[38;5;28;01mas\u001b[39;00m f:\n\u001b[0;32m      5\u001b[0m     height \u001b[38;5;241m=\u001b[39m [\u001b[38;5;28mfloat\u001b[39m(line\u001b[38;5;241m.\u001b[39mstrip()) \u001b[38;5;28;01mfor\u001b[39;00m line \u001b[38;5;129;01min\u001b[39;00m f\u001b[38;5;241m.\u001b[39mreadlines()]\n\u001b[0;32m      7\u001b[0m \u001b[38;5;28;01mwith\u001b[39;00m \u001b[38;5;28mopen\u001b[39m(\u001b[38;5;124m'\u001b[39m\u001b[38;5;124mNguyen_Van_Nam_DHKL17A1HN_23174600055\u001b[39m\u001b[38;5;130;01m\\\\\u001b[39;00m\u001b[38;5;124mchương 3\u001b[39m\u001b[38;5;130;01m\\\\\u001b[39;00m\u001b[38;5;124mweights_1.txt\u001b[39m\u001b[38;5;124m'\u001b[39m, \u001b[38;5;124m'\u001b[39m\u001b[38;5;124mr\u001b[39m\u001b[38;5;124m'\u001b[39m) \u001b[38;5;28;01mas\u001b[39;00m f:\n",
      "File \u001b[1;32m~\\AppData\\Roaming\\Python\\Python311\\site-packages\\IPython\\core\\interactiveshell.py:324\u001b[0m, in \u001b[0;36m_modified_open\u001b[1;34m(file, *args, **kwargs)\u001b[0m\n\u001b[0;32m    317\u001b[0m \u001b[38;5;28;01mif\u001b[39;00m file \u001b[38;5;129;01min\u001b[39;00m {\u001b[38;5;241m0\u001b[39m, \u001b[38;5;241m1\u001b[39m, \u001b[38;5;241m2\u001b[39m}:\n\u001b[0;32m    318\u001b[0m     \u001b[38;5;28;01mraise\u001b[39;00m \u001b[38;5;167;01mValueError\u001b[39;00m(\n\u001b[0;32m    319\u001b[0m         \u001b[38;5;124mf\u001b[39m\u001b[38;5;124m\"\u001b[39m\u001b[38;5;124mIPython won\u001b[39m\u001b[38;5;124m'\u001b[39m\u001b[38;5;124mt let you open fd=\u001b[39m\u001b[38;5;132;01m{\u001b[39;00mfile\u001b[38;5;132;01m}\u001b[39;00m\u001b[38;5;124m by default \u001b[39m\u001b[38;5;124m\"\u001b[39m\n\u001b[0;32m    320\u001b[0m         \u001b[38;5;124m\"\u001b[39m\u001b[38;5;124mas it is likely to crash IPython. If you know what you are doing, \u001b[39m\u001b[38;5;124m\"\u001b[39m\n\u001b[0;32m    321\u001b[0m         \u001b[38;5;124m\"\u001b[39m\u001b[38;5;124myou can use builtins\u001b[39m\u001b[38;5;124m'\u001b[39m\u001b[38;5;124m open.\u001b[39m\u001b[38;5;124m\"\u001b[39m\n\u001b[0;32m    322\u001b[0m     )\n\u001b[1;32m--> 324\u001b[0m \u001b[38;5;28;01mreturn\u001b[39;00m \u001b[43mio_open\u001b[49m\u001b[43m(\u001b[49m\u001b[43mfile\u001b[49m\u001b[43m,\u001b[49m\u001b[43m \u001b[49m\u001b[38;5;241;43m*\u001b[39;49m\u001b[43margs\u001b[49m\u001b[43m,\u001b[49m\u001b[43m \u001b[49m\u001b[38;5;241;43m*\u001b[39;49m\u001b[38;5;241;43m*\u001b[39;49m\u001b[43mkwargs\u001b[49m\u001b[43m)\u001b[49m\n",
      "\u001b[1;31mFileNotFoundError\u001b[0m: [Errno 2] No such file or directory: 'Nguyen_Van_Nam_DHKL17A1HN_23174600055\\\\chương 3\\\\heights_1.txt'"
     ]
    }
   ],
   "source": [
    "import numpy as np\n",
    "\n",
    "# Bước 1: Đọc dữ liệu từ file heights_1.txt và weights_1.txt (giả sử các file chứa các giá trị theo hàng)\n",
    "with open('Nguyen_Van_Nam_DHKL17A1HN_23174600055\\\\chương 3\\\\heights_1.txt', 'r') as f:\n",
    "    height = [float(line.strip()) for line in f.readlines()]\n",
    "\n",
    "with open('Nguyen_Van_Nam_DHKL17A1HN_23174600055\\\\chương 3\\\\weights_1.txt', 'r') as f:\n",
    "    weight = [float(line.strip()) for line in f.readlines()]\n",
    "\n",
    "# Câu 1: Tạo numpy array arr_height từ list height\n",
    "arr_height = np.array(height)"
   ]
  },
  {
   "cell_type": "code",
   "execution_count": 3,
   "metadata": {},
   "outputs": [
    {
     "ename": "NameError",
     "evalue": "name 'weight' is not defined",
     "output_type": "error",
     "traceback": [
      "\u001b[1;31m---------------------------------------------------------------------------\u001b[0m",
      "\u001b[1;31mNameError\u001b[0m                                 Traceback (most recent call last)",
      "Cell \u001b[1;32mIn[3], line 2\u001b[0m\n\u001b[0;32m      1\u001b[0m \u001b[38;5;66;03m# Câu 2: Tạo numpy array arr_weight từ list weight\u001b[39;00m\n\u001b[1;32m----> 2\u001b[0m arr_weight \u001b[38;5;241m=\u001b[39m np\u001b[38;5;241m.\u001b[39marray(\u001b[43mweight\u001b[49m)\n",
      "\u001b[1;31mNameError\u001b[0m: name 'weight' is not defined"
     ]
    }
   ],
   "source": [
    "\n",
    "# Câu 2: Tạo numpy array arr_weight từ list weight\n",
    "arr_weight = np.array(weight)"
   ]
  },
  {
   "cell_type": "code",
   "execution_count": null,
   "metadata": {},
   "outputs": [],
   "source": [
    "# Câu 3: Tạo arr_height_m bằng cách quy đổi từ inch sang mét (1 inch = 0.0254 m)\n",
    "inch_to_m = 0.0254\n",
    "arr_height_m = arr_height * inch_to_m\n",
    "print(\"Chiều cao (m):\", arr_height_m)\n"
   ]
  },
  {
   "cell_type": "code",
   "execution_count": null,
   "metadata": {},
   "outputs": [],
   "source": [
    "# Câu 4: Tạo arr_weight_kg bằng cách quy đổi từ pound sang kg (1 pound = 0.453592 kg)\n",
    "pound_to_kg = 0.453592\n",
    "arr_weight_kg = arr_weight * pound_to_kg\n",
    "print(\"Cân nặng (kg):\", arr_weight_kg)\n"
   ]
  },
  {
   "cell_type": "code",
   "execution_count": null,
   "metadata": {},
   "outputs": [],
   "source": [
    "# Câu 5: Tính BMI = Cân nặng / (Chiều cao * Chiều cao)\n",
    "arr_bmi = arr_weight_kg / (arr_height_m ** 2)\n",
    "print(\"BMI:\", arr_bmi)"
   ]
  },
  {
   "cell_type": "code",
   "execution_count": null,
   "metadata": {},
   "outputs": [],
   "source": [
    "# Câu 6: Lấy giá trị cân nặng ở vị trí index = 50\n",
    "weight_at_index_50 = arr_weight_kg[50]\n",
    "print(\"Cân nặng tại vị trí 50:\", weight_at_index_50)"
   ]
  },
  {
   "cell_type": "code",
   "execution_count": null,
   "metadata": {},
   "outputs": [],
   "source": [
    "# Câu 7: Lấy chiều cao ở vị trí từ index 100 đến 110 (bao gồm 110) trong arr_height_m\n",
    "height_from_100_to_110 = arr_height_m[100:111]\n",
    "print(\"Chiều cao từ index 100 đến 110:\", height_from_100_to_110)"
   ]
  },
  {
   "cell_type": "code",
   "execution_count": null,
   "metadata": {},
   "outputs": [],
   "source": [
    "# Câu 8: Lấy các cầu thủ có BMI < 21\n",
    "bmi_under_21 = arr_bmi[arr_bmi < 21]\n",
    "print(\"Các cầu thủ có BMI < 21:\", bmi_under_21)"
   ]
  },
  {
   "cell_type": "code",
   "execution_count": null,
   "metadata": {},
   "outputs": [],
   "source": [
    "# Câu 9: Chiều cao trung bình và cân nặng trung bình của các cầu thủ\n",
    "mean_height = np.mean(arr_height_m)\n",
    "mean_weight = np.mean(arr_weight_kg)\n",
    "print(\"Chiều cao trung bình:\", mean_height)\n",
    "print(\"Cân nặng trung bình:\", mean_weight)\n"
   ]
  },
  {
   "cell_type": "code",
   "execution_count": null,
   "metadata": {},
   "outputs": [],
   "source": [
    "# Câu 10: Chiều cao và cân nặng lớn nhất của các cầu thủ\n",
    "max_height = np.max(arr_height_m)\n",
    "max_weight = np.max(arr_weight_kg)\n",
    "print(\"Chiều cao lớn nhất:\", max_height)\n",
    "print(\"Cân nặng lớn nhất:\", max_weight)\n"
   ]
  },
  {
   "cell_type": "code",
   "execution_count": null,
   "metadata": {},
   "outputs": [],
   "source": [
    "# Câu 11: Chiều cao và cân nặng nhỏ nhất của các cầu thủ\n",
    "min_height = np.min(arr_height_m)\n",
    "min_weight = np.min(arr_weight_kg)\n",
    "print(\"Chiều cao nhỏ nhất:\", min_height)\n",
    "print(\"Cân nặng nhỏ nhất:\", min_weight)"
   ]
  }
 ],
 "metadata": {
  "kernelspec": {
   "display_name": "Python 3",
   "language": "python",
   "name": "python3"
  },
  "language_info": {
   "codemirror_mode": {
    "name": "ipython",
    "version": 3
   },
   "file_extension": ".py",
   "mimetype": "text/x-python",
   "name": "python",
   "nbconvert_exporter": "python",
   "pygments_lexer": "ipython3",
   "version": "3.11.5"
  }
 },
 "nbformat": 4,
 "nbformat_minor": 2
}
