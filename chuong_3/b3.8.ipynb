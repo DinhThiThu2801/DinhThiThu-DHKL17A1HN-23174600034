{
 "cells": [
  {
   "cell_type": "code",
   "execution_count": 1,
   "metadata": {},
   "outputs": [],
   "source": [
    "import numpy as np"
   ]
  },
  {
   "cell_type": "code",
   "execution_count": 2,
   "metadata": {},
   "outputs": [],
   "source": [
    "positions = ['GK', 'M', 'A', 'D']\n",
    "np_positions = np.array(positions, dtype='U5')"
   ]
  },
  {
   "cell_type": "code",
   "execution_count": 3,
   "metadata": {},
   "outputs": [
    {
     "name": "stdout",
     "output_type": "stream",
     "text": [
      "Kiểu dữ liệu của np_positions: <U5\n"
     ]
    }
   ],
   "source": [
    "print(\"Kiểu dữ liệu của np_positions:\", np_positions.dtype)"
   ]
  },
  {
   "cell_type": "code",
   "execution_count": 4,
   "metadata": {},
   "outputs": [],
   "source": [
    "heights = [188, 175, 192, 184, 195, 174, 168, 199, 201, 189]\n",
    "np_heights = np.array(heights, dtype=float)"
   ]
  },
  {
   "cell_type": "code",
   "execution_count": 5,
   "metadata": {},
   "outputs": [
    {
     "name": "stdout",
     "output_type": "stream",
     "text": [
      "Kiểu dữ liệu của np_heights: float64\n"
     ]
    }
   ],
   "source": [
    "print(\"Kiểu dữ liệu của np_heights:\", np_heights.dtype)"
   ]
  },
  {
   "cell_type": "code",
   "execution_count": 6,
   "metadata": {},
   "outputs": [
    {
     "ename": "IndexError",
     "evalue": "boolean index did not match indexed array along dimension 0; dimension is 10 but corresponding boolean dimension is 4",
     "output_type": "error",
     "traceback": [
      "\u001b[1;31m---------------------------------------------------------------------------\u001b[0m",
      "\u001b[1;31mIndexError\u001b[0m                                Traceback (most recent call last)",
      "Cell \u001b[1;32mIn[6], line 1\u001b[0m\n\u001b[1;32m----> 1\u001b[0m average_height_GK \u001b[38;5;241m=\u001b[39m np\u001b[38;5;241m.\u001b[39mmean(\u001b[43mnp_heights\u001b[49m\u001b[43m[\u001b[49m\u001b[43mnp_positions\u001b[49m\u001b[43m \u001b[49m\u001b[38;5;241;43m==\u001b[39;49m\u001b[43m \u001b[49m\u001b[38;5;124;43m'\u001b[39;49m\u001b[38;5;124;43mGK\u001b[39;49m\u001b[38;5;124;43m'\u001b[39;49m\u001b[43m]\u001b[49m)\n\u001b[0;32m      2\u001b[0m \u001b[38;5;28mprint\u001b[39m(\u001b[38;5;124m\"\u001b[39m\u001b[38;5;124mChiều cao trung bình của các GK:\u001b[39m\u001b[38;5;124m\"\u001b[39m, average_height_GK)\n",
      "\u001b[1;31mIndexError\u001b[0m: boolean index did not match indexed array along dimension 0; dimension is 10 but corresponding boolean dimension is 4"
     ]
    }
   ],
   "source": [
    "average_height_GK = np.mean(np_heights[np_positions == 'GK'])\n",
    "print(\"Chiều cao trung bình của các GK:\", average_height_GK)"
   ]
  },
  {
   "cell_type": "code",
   "execution_count": null,
   "metadata": {},
   "outputs": [],
   "source": [
    "average_height_others = np.mean(np_heights[np_positions != 'GK'])\n",
    "print(\"Chiều cao trung bình của những vị trí khác:\", average_height_others)"
   ]
  },
  {
   "cell_type": "code",
   "execution_count": null,
   "metadata": {},
   "outputs": [],
   "source": [
    "players = np.array(list(zip(np_positions, np_heights)), dtype=[('position', 'U5'), ('height', float)])"
   ]
  },
  {
   "cell_type": "code",
   "execution_count": null,
   "metadata": {},
   "outputs": [],
   "source": [
    "sorted_players = np.sort(players, order='height')\n",
    "max_height_position = sorted_players[-1]['position']\n",
    "min_height_position = sorted_players[0]['position']\n",
    "\n",
    "print(\"Vị trí có chiều cao cao nhất:\", max_height_position)\n",
    "print(\"Vị trí có chiều cao thấp nhất:\", min_height_position)"
   ]
  }
 ],
 "metadata": {
  "kernelspec": {
   "display_name": "Python 3",
   "language": "python",
   "name": "python3"
  },
  "language_info": {
   "codemirror_mode": {
    "name": "ipython",
    "version": 3
   },
   "file_extension": ".py",
   "mimetype": "text/x-python",
   "name": "python",
   "nbconvert_exporter": "python",
   "pygments_lexer": "ipython3",
   "version": "3.11.5"
  }
 },
 "nbformat": 4,
 "nbformat_minor": 2
}
