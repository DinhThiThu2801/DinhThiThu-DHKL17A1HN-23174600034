{
 "cells": [
  {
   "cell_type": "code",
   "execution_count": 5,
   "metadata": {},
   "outputs": [],
   "source": [
    "import pandas as pd\n",
    "import numpy as np\n",
    "ser = pd.Series(np.random.randint(1, 10, 35))\n",
    "#1. Ý nghĩa mã lệnh:\n",
    "# np.random.randint(1, 10, 35): Tạo một mảng numpy chứa 35 số nguyên ngẫu nhiên từ 1 đến 9.\n",
    "# pd.Series(...): Tạo một đối tượng Series từ mảng số nguyên vừa tạo.\n",
    "# Như vậy, đoạn mã này tạo ra một Series (ser) có 35 phần tử, mỗi phần tử là một số nguyên ngẫu nhiên từ 1 đến 9."
   ]
  },
  {
   "cell_type": "markdown",
   "metadata": {},
   "source": [
    "2. Định hình lại ser thành một DataFrame có 7 hàng và 5 cột"
   ]
  },
  {
   "cell_type": "code",
   "execution_count": 6,
   "metadata": {},
   "outputs": [],
   "source": [
    "ser = pd.Series(np.random.randint(1, 10, 35))"
   ]
  },
  {
   "cell_type": "code",
   "execution_count": 7,
   "metadata": {},
   "outputs": [
    {
     "name": "stdout",
     "output_type": "stream",
     "text": [
      "   Col1  Col2  Col3  Col4  Col5\n",
      "0     1     9     6     7     3\n",
      "1     6     3     9     5     3\n",
      "2     8     5     5     1     1\n",
      "3     3     9     6     8     7\n",
      "4     9     4     1     6     9\n",
      "5     7     2     2     4     4\n",
      "6     4     1     2     2     5\n"
     ]
    }
   ],
   "source": [
    "df = pd.DataFrame(np.array(ser).reshape(7, 5), columns=['Col1', 'Col2', 'Col3', 'Col4', 'Col5'])\n",
    "print(df)"
   ]
  }
 ],
 "metadata": {
  "kernelspec": {
   "display_name": "Python 3",
   "language": "python",
   "name": "python3"
  },
  "language_info": {
   "codemirror_mode": {
    "name": "ipython",
    "version": 3
   },
   "file_extension": ".py",
   "mimetype": "text/x-python",
   "name": "python",
   "nbconvert_exporter": "python",
   "pygments_lexer": "ipython3",
   "version": "3.11.5"
  }
 },
 "nbformat": 4,
 "nbformat_minor": 2
}
